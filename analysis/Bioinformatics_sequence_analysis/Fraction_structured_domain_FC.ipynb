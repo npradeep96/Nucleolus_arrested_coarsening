{
 "cells": [
  {
   "cell_type": "code",
   "execution_count": 1,
   "metadata": {},
   "outputs": [],
   "source": [
    "import numpy as np\n",
    "from matplotlib import pyplot as plt\n",
    "from scipy.stats import ks_2samp"
   ]
  },
  {
   "cell_type": "code",
   "execution_count": 2,
   "metadata": {},
   "outputs": [],
   "source": [
    "from matplotlib import rc\n",
    "rc('font',**{'family':'sans-serif','sans-serif':['Arial']})\n",
    "# rc('text', usetex=True)\n",
    "plt.rcParams['xtick.labelsize']=15\n",
    "plt.rcParams['ytick.labelsize']=15\n",
    "plt.rcParams['font.size']=15\n",
    "plt.rcParams['pdf.fonttype']=42\n",
    "plt.rcParams[\"text.usetex\"]=False"
   ]
  },
  {
   "cell_type": "code",
   "execution_count": 7,
   "metadata": {},
   "outputs": [
    {
     "data": {
      "image/png": "[encoded data removed]",
      "text/plain": [
       "<Figure size 144x288 with 1 Axes>"
      ]
     },
     "metadata": {
      "needs_background": "light"
     },
     "output_type": "display_data"
    }
   ],
   "source": [
    "fractions = [0.017065, 0.044132]\n",
    "fig, axs = plt.subplots(1, 1, figsize=(2,4))\n",
    "barlist = axs.bar(['FC', 'Non-FC'], fractions)\n",
    "barlist[0].set_color('olivedrab')\n",
    "barlist[1].set_color('royalblue')\n",
    "axs.set_ylim(0, 0.05)\n",
    "axs.set_ylabel('Fraction with RNA binding domains')\n",
    "plt.savefig('Figures_for_paper/Fraction_structured_domains.pdf', format='pdf', dpi=600)\n",
    "plt.savefig('Figures_for_paper/Fraction_structured_domains.svg', format='svg', dpi=600)\n",
    "plt.show()\n",
    "plt.close()"
   ]
  },
  {
   "cell_type": "code",
   "execution_count": null,
   "metadata": {},
   "outputs": [],
   "source": []
  }
 ],
 "metadata": {
  "kernelspec": {
   "display_name": "Python 2",
   "language": "python",
   "name": "python2"
  },
  "language_info": {
   "codemirror_mode": {
    "name": "ipython",
    "version": 2
   },
   "file_extension": ".py",
   "mimetype": "text/x-python",
   "name": "python",
   "nbconvert_exporter": "python",
   "pygments_lexer": "ipython2",
   "version": "2.7.15"
  }
 },
 "nbformat": 4,
 "nbformat_minor": 2
}
